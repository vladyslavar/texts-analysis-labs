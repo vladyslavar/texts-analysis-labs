{
 "cells": [
  {
   "cell_type": "code",
   "execution_count": 1,
   "metadata": {},
   "outputs": [
    {
     "name": "stdout",
     "output_type": "stream",
     "text": [
      "Slowly and solemnly he was borne into Briony Lodge 145a and laid out in the\n",
      "principal room, while I (094)-44-33 still observed the proceedings from my post\n",
      "by the window 12/15/1892. The lamps had been lit, but the blinds had not been\n",
      "drawn, so that I could see Holmes sh_holmes221@mail.uk as he lay upon the couch. I do not\n",
      "know whether he was seized with compunction at that moment for the part\n",
      "he was playing, but I know that I never felt more heartily ashamed of\n",
      "myself in my life 34-34-32 than when I saw the beautiful creature against whom\n",
      "I wston23@mymail.com was conspiring, or the grace and kindliness with which she waited\n",
      "upon the injured man. And yet it would be the blackest treachery to 1895-11-17\n",
      "Holmes to draw back now from the part which he had intrusted to me Avenue 123.\n",
      "I hardened my heart Wtason Street 45b, and took the smoke-rocket from under my ulster.\n",
      "After all, 344-21-01 I thought, we are not injuring her. We are but preventing\n",
      "her from injuring another adlerrr@mail.com.\n"
     ]
    }
   ],
   "source": [
    "with open('text3.txt', 'r', encoding='utf-8') as f:\n",
    "    data = f.read()\n",
    "\n",
    "print(data)"
   ]
  },
  {
   "cell_type": "code",
   "execution_count": null,
   "metadata": {},
   "outputs": [],
   "source": [
    "import spacy\n",
    "nlp = spacy.load('en_core_web_sm')\n",
    "doc = nlp(data)\n",
    "for token in doc:\n",
    "    print(token.text, token.lemma, token.pos_, token.dep_)"
   ]
  }
 ],
 "metadata": {
  "kernelspec": {
   "display_name": "Python 3",
   "language": "python",
   "name": "python3"
  },
  "language_info": {
   "codemirror_mode": {
    "name": "ipython",
    "version": 3
   },
   "file_extension": ".py",
   "mimetype": "text/x-python",
   "name": "python",
   "nbconvert_exporter": "python",
   "pygments_lexer": "ipython3",
   "version": "3.9.13"
  },
  "orig_nbformat": 4
 },
 "nbformat": 4,
 "nbformat_minor": 2
}
