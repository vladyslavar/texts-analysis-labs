{
 "cells": [
  {
   "cell_type": "code",
   "execution_count": 73,
   "metadata": {},
   "outputs": [
    {
     "name": "stdout",
     "output_type": "stream",
     "text": [
      "Entities in 'We were on that stand up comedy night last Friday, it was awesome!'\n",
      "DATE last Friday\n"
     ]
    }
   ],
   "source": [
    "import random\n",
    "import spacy\n",
    "from spacy.training import Example\n",
    "\n",
    "nlp = spacy.load(\"en_core_web_sm\")\n",
    "\n",
    "test_sentence = \"We were on that stand up comedy night last Friday, it was awesome!\"\n",
    "doc = nlp(test_sentence)\n",
    "print(\"Entities in '%s'\" % test_sentence)\n",
    "\n",
    "for ent in doc.ents:\n",
    "\tprint(ent.label_, ent.text)"
   ]
  },
  {
   "cell_type": "code",
   "execution_count": 74,
   "metadata": {},
   "outputs": [],
   "source": [
    "examples = [\n",
    "    Example.from_dict(nlp(\"It's a stand up comedy night in our pub this Friday\"), {\"entities\": [(8, 28, \"EVENT\")]}),\n",
    "    Example.from_dict(nlp(\"Stand up comedy night will take place in our pub this Friday\"), {\"entities\": [(0, 21, \"EVENT\")]}),\n",
    "    Example.from_dict(nlp(\"We are going to visit stand up comedy night in our pub\"), {\"entities\": [(22, 43, \"EVENT\")]}),\n",
    "    Example.from_dict(nlp(\"Last stand up comedy night was great\"), {\"entities\": [(5, 26, \"EVENT\")]}),\n",
    "]"
   ]
  },
  {
   "cell_type": "code",
   "execution_count": 55,
   "metadata": {},
   "outputs": [
    {
     "data": {
      "text/plain": [
       "stand up comedy night"
      ]
     },
     "execution_count": 55,
     "metadata": {},
     "output_type": "execute_result"
    }
   ],
   "source": [
    "text = \"Last stand up comedy night was great\"\n",
    "nlp(text[5:26])"
   ]
  },
  {
   "cell_type": "code",
   "execution_count": 75,
   "metadata": {},
   "outputs": [],
   "source": [
    "# teach that \"stand up comedy night\" is an event\n",
    "\n",
    "other_pipes = [pipe for pipe in nlp.pipe_names if pipe != \"ner\"]\n",
    "with nlp.disable_pipes(*other_pipes):\n",
    "\toptimizer = nlp.create_optimizer()\n",
    "\tfor i in range(20):\n",
    "\t\trandom.shuffle(examples)\n",
    "\t\tfor example in examples:\n",
    "\t\t\tnlp.update([example], sgd=optimizer)\n",
    "ner = nlp.get_pipe(\"ner\")\n",
    "ner.to_disk(\"new_ner\")"
   ]
  },
  {
   "cell_type": "code",
   "execution_count": 76,
   "metadata": {},
   "outputs": [
    {
     "name": "stdout",
     "output_type": "stream",
     "text": [
      "Entities in 'We were on that stand up comedy night last Friday, it was awesome!'\n",
      "EVENT stand up comedy night\n",
      "DATE last Friday\n"
     ]
    }
   ],
   "source": [
    "test_sentence = \"We were on that stand up comedy night last Friday, it was awesome!\"\n",
    "doc = nlp(test_sentence)\n",
    "print(\"Entities in '%s'\" % test_sentence)\n",
    "\n",
    "for ent in doc.ents:\n",
    "\tprint(ent.label_, ent.text)"
   ]
  },
  {
   "cell_type": "code",
   "execution_count": 72,
   "metadata": {},
   "outputs": [
    {
     "name": "stdout",
     "output_type": "stream",
     "text": [
      "Entities in 'We were on that stand up comedy night last Friday, it was awesome!'\n",
      "EVENT stand up comedy night\n"
     ]
    }
   ],
   "source": [
    "import spacy\n",
    "import random\n",
    "from spacy.training import Example\n",
    "\n",
    "nlp = spacy.blank(\"en\")\n",
    "ner = nlp.add_pipe(\"ner\")\n",
    "ner.add_label(\"EVENT\")\n",
    "\n",
    "optimizer = nlp.begin_training()\n",
    "for i in range(20):\n",
    "\trandom.shuffle(examples)\n",
    "\tfor example in examples:\n",
    "\t\tnlp.update([example], sgd=optimizer)\n",
    "\n",
    "test_sentence = \"We were on that stand up comedy night last Friday, it was awesome!\"\n",
    "doc = nlp(test_sentence)\n",
    "print(\"Entities in '%s'\" % test_sentence)\n",
    "\n",
    "for ent in doc.ents:\n",
    "\tprint(ent.label_, ent.text)\n",
    "\t"
   ]
  },
  {
   "cell_type": "code",
   "execution_count": 165,
   "metadata": {},
   "outputs": [
    {
     "name": "stdout",
     "output_type": "stream",
     "text": [
      "[(\"Okay, I'm looking for a list of dates for special events in San Francisco. Would you help pull up a list for me, please?\", {'entities': 0}), (\"Well, I'm thinking the Giants Vs Dodgers game. I've heard it's really entertaining.\", {'entities': 0}), ('Are there other dates listed for the events?', {'entities': 0}), ('Okay, that would be fine. Would you arrange for me to purchase 3 tickets for that event, please?', {'entities': 1}), ('Wonderful. Yes, please confirm. That is exactly what I want. Now, what is the address of the venue? And, at what time will the game start?', {'entities': 1}), ('Fine and dandy. I really appreciate your assistance.', {'entities': 1}), (\"I'm interested in finding dates for events.\", {'entities': 0}), ('I am looking for events in Anaheim and I head that Brown Sabbath is really good.', {'entities': 0}), ('What events are there on other dates?', {'entities': 0}), ('That sounds good.', {'entities': 0}), ('Yes, I would like to buy tickets.', {'entities': 1}), ('I want 2 tickets.', {'entities': 1}), ('I just want one ticket.', {'entities': 1}), ('Yes, that works for me.', {'entities': 1}), (\"That's all I need and thanks a lot for the help.\", {'entities': 1}), ('I would like to find local event dates.', {'entities': 0}), ('Yes, Chi-town and I heard The Buttertones is good.', {'entities': 0}), ('Are there other dates?', {'entities': 0}), ('What a bout in New York City for Buddy Guy who is good?', {'entities': 0}), ('When does it start?', {'entities': 0}), ('Where is the address?', {'entities': 0}), ('This is a good one for me.', {'entities': 0}), ('I want two tickets to this.', {'entities': 1}), ('Thank you that is good.', {'entities': 1}), ('Thanks that is all today.', {'entities': 1}), ('Hi, I am trying to find some dates for events in the city.', {'entities': 0}), ('I am looking for events in ATL...I heard that Yellow Jackets Vs Bulls is supposed to be really exciting.', {'entities': 0}), ('What time does the game start?', {'entities': 0}), ('Could you let me know the venue address?', {'entities': 0}), ('Awesome, sounds great!', {'entities': 0}), ('Yes, I need four tickets to the game please.', {'entities': 1}), ('Yes, I can confirm that.', {'entities': 1}), ('Thanks so much!', {'entities': 1}), ('I want to find some dates for an event I want to go to.', {'entities': 0}), ('I want to watch Washington Vs Ny Liberty in Washington D.C. When does it start?', {'entities': 0}), ('Sounds great! I want to buy those tickets, help me book two.', {'entities': 1}), ('I want to change that to 3 tickets.', {'entities': 1}), ('What is the address of the venue?', {'entities': 1}), ('Thank you for your help!', {'entities': 1}), (\"I'm looking for some popular events to go to. I hear that the Raiders Vs Jaguars is popular.\", {'entities': 0}), ('I also heard that the Giants Vs Marlins is good. I am looking for events in SFO.', {'entities': 0}), ('That sounds good. I would like to buy three tickets to that event.', {'entities': 1}), ('Yes, that sounds good. Where is it located?', {'entities': 1}), ('Thanks for you help.', {'entities': 1}), ('I need event dates.', {'entities': 0}), ('I would like event dates for Fidlar in Berkeley, CA.', {'entities': 0}), ('Where is that venue located? What time dies the show start.', {'entities': 0}), ('Great. That works for me.', {'entities': 0}), ('Yes I would like tickets.', {'entities': 1}), ('I just need one ticket.', {'entities': 1}), ('Make that 3 tickets.', {'entities': 1}), (\"Yes. That's correct.\", {'entities': 1}), (\"That's great, thanks.\", {'entities': 1}), ('I would like to find out when some events will be.', {'entities': 0}), ('I am looking for events in Seattle, WA. I heard that Greensky Bluegrass is really good.', {'entities': 0}), ('Where is the venue located?', {'entities': 0}), ('When does the concert start?', {'entities': 0}), ('Can you show me some events for other dates?', {'entities': 0}), (\"How about events on other dates? Let's search in Vancouver. I have heard that Whitecaps Vs Earthquakes is really good.\", {'entities': 0}), ('That sounds great to me. I would like to buy tickets.', {'entities': 1}), ('I want 1 ticket.', {'entities': 1}), ('Yes, that works for me. What is the address of the venue? What time does the event start?', {'entities': 1}), (\"Thank you for your help! That's all for now.\", {'entities': 1}), (\"I'm interested in the Falcons Vs Redskins game and need to find out the dates.\", {'entities': 0}), ('See what events are taking place in ATL.', {'entities': 0}), ('That works for me.', {'entities': 0}), ('I would like to purchase three tickets for this event.', {'entities': 1}), ('I only want 1 ticket.', {'entities': 1}), ('Sounds good to me.', {'entities': 1}), (\"Thank you for your help, I don't need anything further.\", {'entities': 1}), ('I want to attend an event in New York City.', {'entities': 0}), ('I heard that Shanice is great.', {'entities': 0}), (\"How about events on other dates? I heard that Nationals Vs Phillies is awesome. I'd like events in Washington D.C.\", {'entities': 0}), ('How about events on other dates?', {'entities': 0}), ('When will the event start?', {'entities': 0}), ('That sounds great. I want to buy three tickets.', {'entities': 1}), ('Yes that works for me. Where is the venue located?', {'entities': 1}), ('Thanks. I got everything I needed.', {'entities': 1}), ('I would like to search for the event White Sox Vs Angels in Chi-town.', {'entities': 0}), ('What about event Cardinal Vs Ducks in Stanford?', {'entities': 0}), ('Is there any events on some other dates?', {'entities': 0}), ('That will work for me.', {'entities': 0}), ('Yes, do it for me.', {'entities': 1}), ('Four is okay', {'entities': 1}), ('Sorry, make it 3', {'entities': 1}), ('Yes, that sounds good. Where is the venue?', {'entities': 1}), ('When is the start date?', {'entities': 1}), (\"Thanks, that's all.\", {'entities': 1}), ('Can you help find dates for some upcoming events?', {'entities': 0}), ('Yes, can you look up events in Portland?', {'entities': 0}), ('Can you look up Damien Jurado?', {'entities': 0}), ('What time does it start?', {'entities': 0}), ('Can I have the location to the venue?', {'entities': 0}), (\"Thank you, that's great.\", {'entities': 0}), ('Yes, that would be helpful. Can you I get two tickets?', {'entities': 1}), ('Sorry, I only need one tickets.', {'entities': 1}), ('Yes, please and thank you.', {'entities': 1}), ('Thank you, you are the best. Have a great day.', {'entities': 1}), (\"I'm looking for an event.\", {'entities': 0}), ('I would like to go to Tash Sultana.', {'entities': 0}), ('Here in Phoenix, AZ.', {'entities': 0}), ('When does it start and where is the venue located.', {'entities': 0}), ('Ok. I would like to buy tickets.', {'entities': 1}), ('Just 1 please.', {'entities': 1}), ('Make that 4 tickets.', {'entities': 1}), ('That is correct.', {'entities': 1}), (\"That's great, Thanks.\", {'entities': 1}), (\"I'm looking for things to do in New York City, like events, do you have dates for anything like that?\", {'entities': 0}), (\"I'm interested in watching the Yankees Vs Blue Jays, that seems like it would be great.\", {'entities': 0}), ('Do you have dates for any other games?', {'entities': 0}), (\"Do you have any other dates for games? I'm actually looking for things to do in Seattle, WA. Do you have anything with the Mariners Vs Tigers, I heard that's good.\", {'entities': 0}), ('What time does it start and where is the park located?', {'entities': 0}), ('That sounds good, I like it.', {'entities': 0}), ('Yeah, can you get me 4 tickets.', {'entities': 1}), (\"Yeah, that's right.\", {'entities': 1}), (\"Thanks so much, that'll be all.\", {'entities': 1}), ('I need the dates for some events.', {'entities': 0}), ('Someone recommended Mystics Vs Sun, they said it was quite good.', {'entities': 0}), ('I want events in the District of Columbia please.', {'entities': 0}), ('What is the location of the venue and what time does it start?', {'entities': 0}), ('I would like to find events for some other dates as well. I would like events that are located in Los Angeles. I have heard positive feedback on Murder City Devils.', {'entities': 0}), (\"That's fantastic. I want four tickets to that event.\", {'entities': 1}), ('No, I now only need 2 tickets purchased.', {'entities': 1}), (\"Yes, that's exactly what I want. Please tell me the address where the event is to be held.\", {'entities': 1}), ('I really appreciate your assistance', {'entities': 1}), ('I want to find dates for events.', {'entities': 0}), ('I am thinking of Angels vs Red Sox.', {'entities': 0}), ('I prefer Anaheim.', {'entities': 0}), ('Where is the event located and at what time does it start?', {'entities': 0}), ('Thats okay. Please I want to pay for the ticket.', {'entities': 1}), ('4 tickets.', {'entities': 1}), ('Yes that is it.', {'entities': 1}), ('Thanks a lot. Thats all I need for now.', {'entities': 1}), ('I am interested in finding dates for events.', {'entities': 0}), ('I want to see Panthers Vs Mountaineers.', {'entities': 0}), ('I am looking for events in Sacramento, CA. I want to see Republic Vs Toros.', {'entities': 0}), ('When does the event start? Where is the event at?', {'entities': 0}), ('That would be great, lets buy tickets.', {'entities': 1}), ('I want 1 ticket.', {'entities': 1}), ('No, I need three tickets.', {'entities': 1}), ('Yes, that is correct.', {'entities': 1}), ('Thank you for your help.', {'entities': 1}), ('Please could you search for dates for events?', {'entities': 0}), ('I have got very nice comments about Phillies Vs Padres and I am looking for events on Philly.', {'entities': 0}), ('At what time does it start?', {'entities': 0}), ('This is nice for me.', {'entities': 0}), ('Yes for sure.', {'entities': 1}), ('It should be three please.', {'entities': 1}), ('Actually I want only one ticket.', {'entities': 1}), ('That is correct. Which is the address of the event?', {'entities': 1}), ('That is all. Thank you.', {'entities': 1}), ('I am looking for something to do this weekend. I think I can find an event for Prettymuch.', {'entities': 0}), ('I will be in SD.', {'entities': 0}), ('Where is that? What time will it start?', {'entities': 0}), ('Hey, that sounds good!', {'entities': 0}), ('Yes, I would like one ticket.', {'entities': 1}), (\"No, I'll have friends with me. I will need four tickets.\", {'entities': 1}), (\"Yes, that's what I want.\", {'entities': 1}), ('Thanks for your help!', {'entities': 1}), ('I am looking for events date', {'entities': 0}), ('Please find Celine Dion in SFO', {'entities': 0}), ('Any other dates?', {'entities': 0}), ('Any other dates with Phillies Vs Pirates in Philadelphia?', {'entities': 0}), ('When is this event and where?', {'entities': 0}), ('thats great, please book a ticket for me', {'entities': 1}), ('i need 3 tickets', {'entities': 1}), ('No i need 2 tickets', {'entities': 1}), ('Yes', {'entities': 1}), ('THanks', {'entities': 1}), ('I am interested in finding out the available dates for a Bryan Adams concert in Portland. I heard that his concerts were really good.', {'entities': 0}), ('What others dates is he playing?', {'entities': 0}), ('What other dates are his concerts?', {'entities': 0}), ('What is the address of the venue?', {'entities': 0}), ('That sounds good to me.', {'entities': 0}), ('Yes, I would like to buy tickets for this concert.', {'entities': 1}), ('I want 2 tickets, please.', {'entities': 1}), ('No, I want four tickets.', {'entities': 1}), ('Yes, that works. What time does the show start?', {'entities': 1}), (\"Thank you very much for your help. That's all for now.\", {'entities': 1}), ('I want to check out the dates for some events', {'entities': 0}), (\"How about Owls vs Knights? I'd like something in Philly.\", {'entities': 0}), (\"What about the Nationals vs Rockies? I'd like information about events in Washington\", {'entities': 0}), (\"Awesome. I'd like to buy 4 tickets to the event.\", {'entities': 1}), ('That is correct.Please give me the event time and exact location', {'entities': 1}), (\"I appreciate your help. That's all.\", {'entities': 1}), (\"I feel like going out to do something in Oakland. I've heard the Raiders Vs Bengals game should be good.\", {'entities': 0}), ('What time does it start?', {'entities': 0}), ('That sounds fine.', {'entities': 0}), ('Yes, can you buy 3 tickets for me?', {'entities': 1}), (\"Yes, that's good. What's the address?\", {'entities': 1}), (\"Thanks! That's all.\", {'entities': 1}), ('Could you help me find some dates for events?', {'entities': 0}), ('I am interested in The Acid event, and events which are located in LA.', {'entities': 0}), ('How about events on other dates? I also heard that Diamondbacks Vs Brewers is good, and am looking for events in Phoenix, Az.', {'entities': 0}), ('That sounds great! Could I reserve 2 tickets to that event?', {'entities': 1}), ('That sounds great!', {'entities': 1}), ('Thanks for your assistance.', {'entities': 1}), ('I want to find out more about event dates.', {'entities': 0}), ('Phoenix please.', {'entities': 0}), ('Yes, I want to Styx in Vancouver, BC.', {'entities': 0}), ('Works for me.', {'entities': 0}), ('Yes please.', {'entities': 1}), ('4 please.', {'entities': 1}), ('Yep, works for me.', {'entities': 1}), ('When does it start and where is the venue?', {'entities': 1}), ('Thank you for the help.', {'entities': 1}), ('I would like to find dates for events in ATL.', {'entities': 0}), ('I really enjoy Gorgasm.', {'entities': 0}), (\"Where is Kenny's Alley? When does it open?\", {'entities': 0}), ('Are there any other dates available>', {'entities': 0}), ('Those are good choices, thank you.', {'entities': 0}), ('Yes I would like to attend the event.', {'entities': 1}), ('I need to purchase 1 ticket.', {'entities': 1}), ('That is correct, Thank you.', {'entities': 1}), ('Thank you. That is all I need.', {'entities': 1}), (\"I'm looking for dates for events.\", {'entities': 0}), (\"I've heard good things about Jordan Rakei. Looking in Los Angeles.\", {'entities': 0}), ('Any other dates? I heard about Falcons Vs Buccaneers, looking in ATL.', {'entities': 0}), ('Where is that and at what time?', {'entities': 0}), ('Any other dates?', {'entities': 0}), ('Sounds good.', {'entities': 0}), ('Yes, please.', {'entities': 1}), ('2 please.', {'entities': 1}), ('Yes, good.', {'entities': 1}), (\"Thanks, that's all.\", {'entities': 1})]\n"
     ]
    }
   ],
   "source": [
    "import json\n",
    "\n",
    "with open(\"events.json\", \"r\") as f:\n",
    "\tdata = json.load(f)\n",
    "\n",
    "train_data = []\n",
    "for item in data:\n",
    "\tfor turn in item[\"turns\"]:\n",
    "\t\ttext = turn[\"utterance\"]\n",
    "\t\tentities = []\n",
    "\t\tfor frame in turn[\"frames\"]:\n",
    "\t\t\tif \"state\" in frame.keys():\n",
    "\t\t\t\tintent = frame[\"state\"][\"active_intent\"]\n",
    "\t\t\t\tif(intent == \"NONE\"): continue\n",
    "\t\t\t\tif intent == \"GetEventDates\": intent = 0  # 0 is the label for GetEventDates\n",
    "\t\t\t\telif intent == \"BuyEventTickets\": intent = 1 # 1 is the label for BuyEventTickets\n",
    "\t\t\t\tentities.append(intent)\n",
    "\n",
    "\t\tif len(entities) > 0:\n",
    "\t\t\ttrain_data.append((text, {\"entities\": entities[0]}))\n",
    "\n",
    "print(train_data)\n",
    "\n"
   ]
  },
  {
   "cell_type": "code",
   "execution_count": 166,
   "metadata": {},
   "outputs": [
    {
     "data": {
      "text/plain": [
       "1"
      ]
     },
     "execution_count": 166,
     "metadata": {},
     "output_type": "execute_result"
    }
   ],
   "source": [
    "from spacy.training import Example\n",
    "from spacy.pipeline.textcat_multilabel import DEFAULT_MULTI_TEXTCAT_MODEL\n",
    "\n",
    "if \"textcat_multilabel\" in nlp.pipe_names:\n",
    "    nlp.remove_pipe(\"textcat_multilabel\")\n",
    "\n",
    "config = { \"threshold\": 0.5, \"model\": DEFAULT_MULTI_TEXTCAT_MODEL }\n",
    "textcat = nlp.add_pipe(\"textcat_multilabel\", config=config)\n",
    "textcat.add_label(\"event\")"
   ]
  },
  {
   "cell_type": "code",
   "execution_count": 167,
   "metadata": {},
   "outputs": [
    {
     "data": {
      "text/plain": [
       "[{'doc_annotation': {'cats': {'entities': 0}, 'entities': ['O', 'O', 'O', 'O', 'O', 'O', 'O', 'O', 'O', 'O', 'O', 'O', 'O', 'O', 'O', 'O', 'O', 'O', 'O', 'O', 'O', 'O', 'O', 'O', 'O', 'O', 'O', 'O', 'O'], 'spans': {}, 'links': {}}, 'token_annotation': {'ORTH': ['Okay', ',', 'I', \"'m\", 'looking', 'for', 'a', 'list', 'of', 'dates', 'for', 'special', 'events', 'in', 'San', 'Francisco', '.', 'Would', 'you', 'help', 'pull', 'up', 'a', 'list', 'for', 'me', ',', 'please', '?'], 'SPACY': [False, True, False, True, True, True, True, True, True, True, True, True, True, True, True, False, True, True, True, True, True, True, True, True, True, False, True, False, False], 'TAG': ['', '', '', '', '', '', '', '', '', '', '', '', '', '', '', '', '', '', '', '', '', '', '', '', '', '', '', '', ''], 'LEMMA': ['', '', '', '', '', '', '', '', '', '', '', '', '', '', '', '', '', '', '', '', '', '', '', '', '', '', '', '', ''], 'POS': ['', '', '', '', '', '', '', '', '', '', '', '', '', '', '', '', '', '', '', '', '', '', '', '', '', '', '', '', ''], 'MORPH': ['', '', '', '', '', '', '', '', '', '', '', '', '', '', '', '', '', '', '', '', '', '', '', '', '', '', '', '', ''], 'HEAD': [0, 1, 2, 3, 4, 5, 6, 7, 8, 9, 10, 11, 12, 13, 14, 15, 16, 17, 18, 19, 20, 21, 22, 23, 24, 25, 26, 27, 28], 'DEP': ['', '', '', '', '', '', '', '', '', '', '', '', '', '', '', '', '', '', '', '', '', '', '', '', '', '', '', '', ''], 'SENT_START': [1, 0, 0, 0, 0, 0, 0, 0, 0, 0, 0, 0, 0, 0, 0, 0, 0, 0, 0, 0, 0, 0, 0, 0, 0, 0, 0, 0, 0]}},\n",
       " {'doc_annotation': {'cats': {'entities': 0}, 'entities': ['O', 'O', 'O', 'O', 'O', 'O', 'O', 'O', 'O', 'O', 'O', 'O', 'O', 'O', 'O', 'O', 'O', 'O', 'O'], 'spans': {}, 'links': {}}, 'token_annotation': {'ORTH': ['Well', ',', 'I', \"'m\", 'thinking', 'the', 'Giants', 'Vs', 'Dodgers', 'game', '.', 'I', \"'ve\", 'heard', 'it', \"'s\", 'really', 'entertaining', '.'], 'SPACY': [False, True, False, True, True, True, True, True, True, False, True, False, True, True, False, True, True, False, False], 'TAG': ['', '', '', '', '', '', '', '', '', '', '', '', '', '', '', '', '', '', ''], 'LEMMA': ['', '', '', '', '', '', '', '', '', '', '', '', '', '', '', '', '', '', ''], 'POS': ['', '', '', '', '', '', '', '', '', '', '', '', '', '', '', '', '', '', ''], 'MORPH': ['', '', '', '', '', '', '', '', '', '', '', '', '', '', '', '', '', '', ''], 'HEAD': [0, 1, 2, 3, 4, 5, 6, 7, 8, 9, 10, 11, 12, 13, 14, 15, 16, 17, 18], 'DEP': ['', '', '', '', '', '', '', '', '', '', '', '', '', '', '', '', '', '', ''], 'SENT_START': [1, 0, 0, 0, 0, 0, 0, 0, 0, 0, 0, 0, 0, 0, 0, 0, 0, 0, 0]}},\n",
       " {'doc_annotation': {'cats': {'entities': 0}, 'entities': ['O', 'O', 'O', 'O', 'O', 'O', 'O', 'O', 'O'], 'spans': {}, 'links': {}}, 'token_annotation': {'ORTH': ['Are', 'there', 'other', 'dates', 'listed', 'for', 'the', 'events', '?'], 'SPACY': [True, True, True, True, True, True, True, False, False], 'TAG': ['', '', '', '', '', '', '', '', ''], 'LEMMA': ['', '', '', '', '', '', '', '', ''], 'POS': ['', '', '', '', '', '', '', '', ''], 'MORPH': ['', '', '', '', '', '', '', '', ''], 'HEAD': [0, 1, 2, 3, 4, 5, 6, 7, 8], 'DEP': ['', '', '', '', '', '', '', '', ''], 'SENT_START': [1, 0, 0, 0, 0, 0, 0, 0, 0]}},\n",
       " {'doc_annotation': {'cats': {'entities': 1}, 'entities': ['O', 'O', 'O', 'O', 'O', 'O', 'O', 'O', 'O', 'O', 'O', 'O', 'O', 'O', 'O', 'O', 'O', 'O', 'O', 'O', 'O', 'O'], 'spans': {}, 'links': {}}, 'token_annotation': {'ORTH': ['Okay', ',', 'that', 'would', 'be', 'fine', '.', 'Would', 'you', 'arrange', 'for', 'me', 'to', 'purchase', '3', 'tickets', 'for', 'that', 'event', ',', 'please', '?'], 'SPACY': [False, True, True, True, True, False, True, True, True, True, True, True, True, True, True, True, True, True, False, True, False, False], 'TAG': ['', '', '', '', '', '', '', '', '', '', '', '', '', '', '', '', '', '', '', '', '', ''], 'LEMMA': ['', '', '', '', '', '', '', '', '', '', '', '', '', '', '', '', '', '', '', '', '', ''], 'POS': ['', '', '', '', '', '', '', '', '', '', '', '', '', '', '', '', '', '', '', '', '', ''], 'MORPH': ['', '', '', '', '', '', '', '', '', '', '', '', '', '', '', '', '', '', '', '', '', ''], 'HEAD': [0, 1, 2, 3, 4, 5, 6, 7, 8, 9, 10, 11, 12, 13, 14, 15, 16, 17, 18, 19, 20, 21], 'DEP': ['', '', '', '', '', '', '', '', '', '', '', '', '', '', '', '', '', '', '', '', '', ''], 'SENT_START': [1, 0, 0, 0, 0, 0, 0, 0, 0, 0, 0, 0, 0, 0, 0, 0, 0, 0, 0, 0, 0, 0]}},\n",
       " {'doc_annotation': {'cats': {'entities': 1}, 'entities': ['O', 'O', 'O', 'O', 'O', 'O', 'O', 'O', 'O', 'O', 'O', 'O', 'O', 'O', 'O', 'O', 'O', 'O', 'O', 'O', 'O', 'O', 'O', 'O', 'O', 'O', 'O', 'O', 'O', 'O', 'O', 'O', 'O', 'O'], 'spans': {}, 'links': {}}, 'token_annotation': {'ORTH': ['Wonderful', '.', 'Yes', ',', 'please', 'confirm', '.', 'That', 'is', 'exactly', 'what', 'I', 'want', '.', 'Now', ',', 'what', 'is', 'the', 'address', 'of', 'the', 'venue', '?', 'And', ',', 'at', 'what', 'time', 'will', 'the', 'game', 'start', '?'], 'SPACY': [False, True, False, True, True, False, True, True, True, True, True, True, False, True, False, True, True, True, True, True, True, True, False, True, False, True, True, True, True, True, True, True, False, False], 'TAG': ['', '', '', '', '', '', '', '', '', '', '', '', '', '', '', '', '', '', '', '', '', '', '', '', '', '', '', '', '', '', '', '', '', ''], 'LEMMA': ['', '', '', '', '', '', '', '', '', '', '', '', '', '', '', '', '', '', '', '', '', '', '', '', '', '', '', '', '', '', '', '', '', ''], 'POS': ['', '', '', '', '', '', '', '', '', '', '', '', '', '', '', '', '', '', '', '', '', '', '', '', '', '', '', '', '', '', '', '', '', ''], 'MORPH': ['', '', '', '', '', '', '', '', '', '', '', '', '', '', '', '', '', '', '', '', '', '', '', '', '', '', '', '', '', '', '', '', '', ''], 'HEAD': [0, 1, 2, 3, 4, 5, 6, 7, 8, 9, 10, 11, 12, 13, 14, 15, 16, 17, 18, 19, 20, 21, 22, 23, 24, 25, 26, 27, 28, 29, 30, 31, 32, 33], 'DEP': ['', '', '', '', '', '', '', '', '', '', '', '', '', '', '', '', '', '', '', '', '', '', '', '', '', '', '', '', '', '', '', '', '', ''], 'SENT_START': [1, 0, 0, 0, 0, 0, 0, 0, 0, 0, 0, 0, 0, 0, 0, 0, 0, 0, 0, 0, 0, 0, 0, 0, 0, 0, 0, 0, 0, 0, 0, 0, 0, 0]}},\n",
       " {'doc_annotation': {'cats': {'entities': 1}, 'entities': ['O', 'O', 'O', 'O', 'O', 'O', 'O', 'O', 'O', 'O'], 'spans': {}, 'links': {}}, 'token_annotation': {'ORTH': ['Fine', 'and', 'dandy', '.', 'I', 'really', 'appreciate', 'your', 'assistance', '.'], 'SPACY': [True, True, False, True, True, True, True, True, False, False], 'TAG': ['', '', '', '', '', '', '', '', '', ''], 'LEMMA': ['', '', '', '', '', '', '', '', '', ''], 'POS': ['', '', '', '', '', '', '', '', '', ''], 'MORPH': ['', '', '', '', '', '', '', '', '', ''], 'HEAD': [0, 1, 2, 3, 4, 5, 6, 7, 8, 9], 'DEP': ['', '', '', '', '', '', '', '', '', ''], 'SENT_START': [1, 0, 0, 0, 0, 0, 0, 0, 0, 0]}},\n",
       " {'doc_annotation': {'cats': {'entities': 0}, 'entities': ['O', 'O', 'O', 'O', 'O', 'O', 'O', 'O', 'O'], 'spans': {}, 'links': {}}, 'token_annotation': {'ORTH': ['I', \"'m\", 'interested', 'in', 'finding', 'dates', 'for', 'events', '.'], 'SPACY': [False, True, True, True, True, True, True, False, False], 'TAG': ['', '', '', '', '', '', '', '', ''], 'LEMMA': ['', '', '', '', '', '', '', '', ''], 'POS': ['', '', '', '', '', '', '', '', ''], 'MORPH': ['', '', '', '', '', '', '', '', ''], 'HEAD': [0, 1, 2, 3, 4, 5, 6, 7, 8], 'DEP': ['', '', '', '', '', '', '', '', ''], 'SENT_START': [1, 0, 0, 0, 0, 0, 0, 0, 0]}},\n",
       " {'doc_annotation': {'cats': {'entities': 0}, 'entities': ['O', 'O', 'O', 'O', 'O', 'O', 'O', 'O', 'O', 'O', 'O', 'O', 'O', 'O', 'O', 'O', 'O'], 'spans': {}, 'links': {}}, 'token_annotation': {'ORTH': ['I', 'am', 'looking', 'for', 'events', 'in', 'Anaheim', 'and', 'I', 'head', 'that', 'Brown', 'Sabbath', 'is', 'really', 'good', '.'], 'SPACY': [True, True, True, True, True, True, True, True, True, True, True, True, True, True, True, False, False], 'TAG': ['', '', '', '', '', '', '', '', '', '', '', '', '', '', '', '', ''], 'LEMMA': ['', '', '', '', '', '', '', '', '', '', '', '', '', '', '', '', ''], 'POS': ['', '', '', '', '', '', '', '', '', '', '', '', '', '', '', '', ''], 'MORPH': ['', '', '', '', '', '', '', '', '', '', '', '', '', '', '', '', ''], 'HEAD': [0, 1, 2, 3, 4, 5, 6, 7, 8, 9, 10, 11, 12, 13, 14, 15, 16], 'DEP': ['', '', '', '', '', '', '', '', '', '', '', '', '', '', '', '', ''], 'SENT_START': [1, 0, 0, 0, 0, 0, 0, 0, 0, 0, 0, 0, 0, 0, 0, 0, 0]}},\n",
       " {'doc_annotation': {'cats': {'entities': 0}, 'entities': ['O', 'O', 'O', 'O', 'O', 'O', 'O', 'O'], 'spans': {}, 'links': {}}, 'token_annotation': {'ORTH': ['What', 'events', 'are', 'there', 'on', 'other', 'dates', '?'], 'SPACY': [True, True, True, True, True, True, False, False], 'TAG': ['', '', '', '', '', '', '', ''], 'LEMMA': ['', '', '', '', '', '', '', ''], 'POS': ['', '', '', '', '', '', '', ''], 'MORPH': ['', '', '', '', '', '', '', ''], 'HEAD': [0, 1, 2, 3, 4, 5, 6, 7], 'DEP': ['', '', '', '', '', '', '', ''], 'SENT_START': [1, 0, 0, 0, 0, 0, 0, 0]}},\n",
       " {'doc_annotation': {'cats': {'entities': 0}, 'entities': ['O', 'O', 'O', 'O'], 'spans': {}, 'links': {}}, 'token_annotation': {'ORTH': ['That', 'sounds', 'good', '.'], 'SPACY': [True, True, False, False], 'TAG': ['', '', '', ''], 'LEMMA': ['', '', '', ''], 'POS': ['', '', '', ''], 'MORPH': ['', '', '', ''], 'HEAD': [0, 1, 2, 3], 'DEP': ['', '', '', ''], 'SENT_START': [1, 0, 0, 0]}}]"
      ]
     },
     "execution_count": 167,
     "metadata": {},
     "output_type": "execute_result"
    }
   ],
   "source": [
    "train_examples = [Example.from_dict(nlp.make_doc(text), {\"cats\": cats}) for text, cats in train_data]\n",
    "train_examples[:10]"
   ]
  },
  {
   "cell_type": "code",
   "execution_count": 179,
   "metadata": {},
   "outputs": [],
   "source": [
    "\n",
    "textcat.initialize(lambda: train_examples, nlp=nlp)\n",
    "\n",
    "with nlp.select_pipes(enable=\"textcat\"):\n",
    "    optimizer = nlp.resume_training()\n",
    "    for i in range(30):\n",
    "        random.shuffle(train_examples)\n",
    "        for example in train_examples:\n",
    "            nlp.update([example], sgd=optimizer)"
   ]
  },
  {
   "cell_type": "code",
   "execution_count": 182,
   "metadata": {},
   "outputs": [
    {
     "name": "stdout",
     "output_type": "stream",
     "text": [
      "event(1) - BuyEventTickets || event(0) - GetEventDates\n",
      "{'event': 0.728073239326477, 'entities': 0.4386533200740814}\n",
      "{'event': 0.08010127395391464, 'entities': 0.8308388590812683}\n"
     ]
    }
   ],
   "source": [
    "test_sentence_second = \"We would like to book tickets for the stand up comedy night\"\n",
    "doc2 = nlp(test_sentence_second)\n",
    "print(\"event(1) - BuyEventTickets || event(0) - GetEventDates\")\n",
    "print(doc2.cats)\n",
    "\n",
    "test_sentence_third = \"When is the stand up comedy night?\"\n",
    "doc3 = nlp(test_sentence_third)\n",
    "print(doc3.cats)"
   ]
  }
 ],
 "metadata": {
  "kernelspec": {
   "display_name": "Python 3",
   "language": "python",
   "name": "python3"
  },
  "language_info": {
   "codemirror_mode": {
    "name": "ipython",
    "version": 3
   },
   "file_extension": ".py",
   "mimetype": "text/x-python",
   "name": "python",
   "nbconvert_exporter": "python",
   "pygments_lexer": "ipython3",
   "version": "3.10.9"
  },
  "orig_nbformat": 4
 },
 "nbformat": 4,
 "nbformat_minor": 2
}
