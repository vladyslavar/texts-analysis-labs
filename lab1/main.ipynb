{
 "cells": [
  {
   "cell_type": "code",
   "execution_count": 4,
   "metadata": {},
   "outputs": [
    {
     "name": "stdout",
     "output_type": "stream",
     "text": [
      "Slowly and solemnly he was borne into Briony Lodge 145a and laid out in the\n",
      "principal room, while I (094)-44-33 still observed the proceedings from my post\n",
      "by the window 12/15/1892. The lamps had been lit, but the blinds had not been\n",
      "drawn, so that I could see Holmes sh_holmes221@mail.uk as he lay upon the couch. I do not\n",
      "know whether he was seized with compunction at that moment for the part\n",
      "he was playing, but I know that I never felt more heartily ashamed of\n",
      "myself in my life 34-34-32 than when I saw the beautiful creature against whom\n",
      "I wston23@mymail.com was conspiring, or the grace and kindliness with which she waited\n",
      "upon the injured man. And yet it would be the blackest treachery to 1895-11-17\n",
      "Holmes to draw back now from the part which he had intrusted to me Avenue 123.\n",
      "I hardened my heart Wtason Street 45b, and took the smoke-rocket from under my ulster.\n",
      "After all, 344-21-01 I thought, we are not injuring her. We are but preventing\n",
      "her from injuring another adlerrr@mail.com.\n"
     ]
    }
   ],
   "source": [
    "with open('text3.txt', 'r', encoding='utf-8') as f:\n",
    "    data = f.read()\n",
    "\n",
    "print(data)"
   ]
  },
  {
   "cell_type": "code",
   "execution_count": 5,
   "metadata": {},
   "outputs": [
    {
     "name": "stdout",
     "output_type": "stream",
     "text": [
      "Text:I could see Holmes\n",
      "Last 6 symbols: Holmes\n",
      "Length: 18\n",
      "Count o's: 2\n",
      "Index of o: 3\n",
      "Index of Holmes: 12\n",
      "To upper: I COULD SEE HOLMES\n",
      "To lower: i could see holmes\n",
      "Text title: I Could See Holmes\n",
      "Text capitalize: I could see holmes\n",
      "Join with _: I_ _c_o_u_l_d_ _s_e_e_ _H_o_l_m_e_s\n",
      "Is digit: False\n",
      "Start with I: True\n"
     ]
    }
   ],
   "source": [
    "text = data[249:267]\n",
    "\n",
    "print(\"Text:\" + text)\n",
    "print(\"Last 6 symbols: \" + text[-6:])\n",
    "print(\"Length: \" + str(len(text)))\n",
    "print(\"Count o's: \" + str(text.count('o')))\n",
    "print(\"Index of o: \" + str(text.find('o')))\n",
    "print(\"Index of Holmes: \" + str(text.find('Holmes')))\n",
    "print(\"To upper: \" + text.upper())\n",
    "print(\"To lower: \" + text.lower())\n",
    "print(\"Text title: \" + text.title())\n",
    "print(\"Text capitalize: \" + text.capitalize())\n",
    "print(\"Join with _: \" + '_'.join(text))\n",
    "print(\"Is digit: \" + str(text.isdigit()))\n",
    "print(\"Start with I: \" + str(text.startswith('I')))\n"
   ]
  },
  {
   "cell_type": "code",
   "execution_count": 6,
   "metadata": {},
   "outputs": [
    {
     "name": "stdout",
     "output_type": "stream",
     "text": [
      "Slowly and solemnly he was borne into Briony Lodge 145a and laid out in the\n",
      "principal room, while I (094)-44-33 still observed the proceedings from my post\n",
      "by the window 15.12.1892. The lamps had been lit, but the blinds had not been\n",
      "drawn, so that I could see Holmes sh_holmes221@mail.uk as he lay upon the couch. I do not\n",
      "know whether he was seized with compunction at that moment for the part\n",
      "he was playing, but I know that I never felt more heartily ashamed of\n",
      "myself in my life 34-34-32 than when I saw the beautiful creature against whom\n",
      "I wston23@mymail.com was conspiring, or the grace and kindliness with which she waited\n",
      "upon the injured man. And yet it would be the blackest treachery to 17.11.1895\n",
      "Holmes to draw back now from the part which he had intrusted to me Avenue 123.\n",
      "I hardened my heart Wtason Street 45b, and took the smoke-rocket from under my ulster.\n",
      "After all, 344-21-01 I thought, we are not injuring her. We are but preventing\n",
      "her from injuring another adlerrr@mail.com.\n"
     ]
    }
   ],
   "source": [
    "import re\n",
    "\n",
    "date1_pattern = r'(\\d{2})\\/(\\d{2})\\/(\\d{4})'\n",
    "date2_pattern = r'(\\d{4})\\-(\\d{2})\\-(\\d{2})'\n",
    "\n",
    "data = re.sub(date1_pattern, r'\\2.\\1.\\3', data)\n",
    "data = re.sub(date2_pattern, r'\\3.\\2.\\1', data)\n",
    "\n",
    "print(data)"
   ]
  }
 ],
 "metadata": {
  "kernelspec": {
   "display_name": "Python 3",
   "language": "python",
   "name": "python3"
  },
  "language_info": {
   "codemirror_mode": {
    "name": "ipython",
    "version": 3
   },
   "file_extension": ".py",
   "mimetype": "text/x-python",
   "name": "python",
   "nbconvert_exporter": "python",
   "pygments_lexer": "ipython3",
   "version": "3.9.13"
  },
  "orig_nbformat": 4,
  "vscode": {
   "interpreter": {
    "hash": "8e284ee3255a07ad8bf76694974743c4c81cb57e7c969474d752d949b11d721e"
   }
  }
 },
 "nbformat": 4,
 "nbformat_minor": 2
}
